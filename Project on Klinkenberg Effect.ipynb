{
 "cells": [
  {
   "cell_type": "code",
   "execution_count": 3,
   "id": "1ac42c79",
   "metadata": {},
   "outputs": [
    {
     "name": "stdout",
     "output_type": "stream",
     "text": [
      "***KLINKENBERG EFFECT***\n"
     ]
    }
   ],
   "source": [
    "#Project on Klinkenberg Effect \n",
    "#Here the program works on the Newton-Raphson's method to estimated gas slippage\n",
    "#Sample Data Source: Tarek Ahmed, Reservoir Engineering Textbook\n",
    "\n",
    "print(\"***KLINKENBERG EFFECT***\");\n",
    "\n",
    "#Pm is the mean pressure\n",
    "#Kg is the air(gas) permeability\n",
    "#Kl is the liquid permeability (considering Klinkenberg effect)\n",
    "\n"
   ]
  },
  {
   "cell_type": "code",
   "execution_count": 4,
   "id": "c1c58eef",
   "metadata": {},
   "outputs": [
    {
     "name": "stdout",
     "output_type": "stream",
     "text": [
      "Enter the value of the mean pressure2.512\n",
      "Enter the value of air(gas) permeability46.6\n",
      "Enter the approximated value of the liquid permeability46\n",
      "The Liquid permeability found through the iterative analysis via the Newton Raphson's method is 24.349767790523178\n",
      "Enter the value of the liquid permeability found through the Reservoir Analysis23.66\n",
      "The difference in between the iterated value and experimental value is 0.6897677905231774\n"
     ]
    }
   ],
   "source": [
    "Pm= input(\"Enter the value of the mean pressure\");\n",
    "Pm= float(Pm);\n",
    "\n",
    "Kg= input(\"Enter the value of air(gas) permeability\");\n",
    "Kg= float(Kg);\n",
    "\n",
    "Kl= input(\"Enter the approximated value of the liquid permeability\");\n",
    "Kl= float(Kl);\n",
    "\n",
    "#The governing equations of the Klinkenberg effect involves the terms mentioned above as follows\n",
    "#b=6.9*Kl**(-0.36)\n",
    "#6.9*Kl**0.64+Pm*Kl−Pm*Kg = 0\n",
    "\n",
    "#We approach the above given problem through the Newton Raphson's Method of iteration\n",
    "\n",
    "while(abs(6.9*Kl**0.64 + Pm*Kl - Pm*Kg>0.00001)):\n",
    "    Kl= Kl-((6.9*Kl**0.64 + Pm*Kl - Pm*Kg)/(4.416*Kl**(- 0.36) + Pm));\n",
    "print(\"The Liquid permeability found through the iterative analysis via the Newton Raphson's method is\",Kl);\n",
    "\n",
    "Klo= input(\"Enter the value of the liquid permeability found through the Reservoir Analysis\");\n",
    "Klo= float(Klo);\n",
    "\n",
    "D= Kl-Klo;\n",
    "print(\"The difference in between the iterated value and experimental value is\",D);"
   ]
  },
  {
   "cell_type": "code",
   "execution_count": null,
   "id": "5fca8e4d",
   "metadata": {},
   "outputs": [],
   "source": []
  }
 ],
 "metadata": {
  "kernelspec": {
   "display_name": "Python 3 (ipykernel)",
   "language": "python",
   "name": "python3"
  },
  "language_info": {
   "codemirror_mode": {
    "name": "ipython",
    "version": 3
   },
   "file_extension": ".py",
   "mimetype": "text/x-python",
   "name": "python",
   "nbconvert_exporter": "python",
   "pygments_lexer": "ipython3",
   "version": "3.11.3"
  }
 },
 "nbformat": 4,
 "nbformat_minor": 5
}
